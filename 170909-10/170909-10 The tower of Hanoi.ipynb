{
 "cells": [
  {
   "cell_type": "code",
   "execution_count": null,
   "metadata": {},
   "outputs": [],
   "source": [
    "#원판의 갯수와 옮기는 횟수 도출 함수\n",
    "# n = 원판의 갯수, numofmove(n) = 원판을 옮기는 총 횟수\n",
    "def numofmove(n):\n",
    "    a = 0\n",
    "    for i in range(0,n):\n",
    "        a = a + 2**i\n",
    "    return a\n",
    "numofmove(5)"
   ]
  },
  {
   "cell_type": "code",
   "execution_count": null,
   "metadata": {},
   "outputs": [],
   "source": [
    "#원판의 갯수와 옮기는 과정 도출 함수\n",
    "#n = 원판의 갯수, hanoiRecursive(n) = 원판을 옮기는 과정\n",
    "\n",
    "#너무 어려워서 결국 풀지 못했습니다. 이후 다시 도전해보도록 하겠습니다.\n",
    "#첨부된 코드는 외부 블로그에서 긁어온 자료입니다.(http://abh0518.net/tok/?p=523)\n",
    "\n",
    "def hanoiRecursive(ndisks, startPeg=1, endPeg=3):\n",
    "    global phase\n",
    "    if ndisks:\n",
    "        extraPeg = 6 - endPeg - startPeg\n",
    "        hanoiRecursive(ndisks-1, startPeg, extraPeg)\n",
    "        print(startPeg, \"번 기둥의\", ndisks, \"번 원반을\", endPeg, \"번 기둥에 옮깁니다.\")\n",
    "        hanoiRecursive(ndisks-1, extraPeg , endPeg)\n",
    "hanoiRecursive(5)"
   ]
  },
  {
   "cell_type": "code",
   "execution_count": null,
   "metadata": {
    "collapsed": true
   },
   "outputs": [],
   "source": []
  }
 ],
 "metadata": {
  "kernelspec": {
   "display_name": "Python 3",
   "language": "python",
   "name": "python3"
  },
  "language_info": {
   "codemirror_mode": {
    "name": "ipython",
    "version": 3
   },
   "file_extension": ".py",
   "mimetype": "text/x-python",
   "name": "python",
   "nbconvert_exporter": "python",
   "pygments_lexer": "ipython3",
   "version": "3.6.2"
  }
 },
 "nbformat": 4,
 "nbformat_minor": 2
}
